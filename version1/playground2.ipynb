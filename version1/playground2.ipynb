{
 "cells": [
  {
   "cell_type": "code",
   "execution_count": 1,
   "metadata": {},
   "outputs": [
    {
     "name": "stdout",
     "output_type": "stream",
     "text": [
      "Created csv file.\n"
     ]
    }
   ],
   "source": [
    "import mediapipe as mp\n",
    "import cv2\n",
    "import matplotlib.pyplot as plt\n",
    "import threading\n",
    "import queue\n",
    "from data_processing import *\n",
    "from data_collection import *\n",
    "from matplotlib.animation import FuncAnimation\n",
    "from mediapipe.framework.formats import landmark_pb2\n",
    "from mpl_toolkits.mplot3d import Axes3D\n",
    "import time\n",
    "mp_drawing = mp.solutions.drawing_utils\n",
    "mp_hands = mp.solutions.hands\n",
    "mp_pose = mp.solutions.pose\n",
    "\n",
    "\n",
    "_landmarks_list, _landmark_connections, _captured_landmark_df = None, None, create_xyz_landmark_df()\n",
    "_status, _data_cache = False, queue.Queue()\n",
    "\n",
    "with mp_hands.Hands(min_detection_confidence = 0.8, min_tracking_confidence = 0.5) as hands, mp_pose.Pose(min_detection_confidence = 0.5, min_tracking_confidence = 0.5) as pose:\n",
    "    cap = cv2.VideoCapture(0)\n",
    "\n",
    "    while cap.isOpened():\n",
    "        \n",
    "        ret, frame = cap.read()\n",
    "        \n",
    "        image, _landmarks_list, _landmark_connections = detect_upperbody(frame, hands, pose)\n",
    "    \n",
    "        if _landmarks_list:\n",
    "            _data_cache.put(_landmarks_list)\n",
    "            mp_drawing.draw_landmarks(image, _landmarks_list, _landmark_connections)\n",
    "        \n",
    "        cv2.imshow('Hand Tracking', image)\n",
    "\n",
    "        if cv2.waitKey(50) & 0xFF == ord('q'):\n",
    "            _status = False\n",
    "            break\n",
    "        \n",
    "\n",
    "cap.release()\n",
    "cv2.destroyAllWindows()\n",
    "\n",
    "df = create_xyz_landmark_df()\n",
    "df = df_entry_from_queue_NLL(df = df, data_cache = _data_cache, status = False)\n",
    "create_csv(df = df)\n"
   ]
  }
 ],
 "metadata": {
  "kernelspec": {
   "display_name": "Python 3",
   "language": "python",
   "name": "python3"
  },
  "language_info": {
   "codemirror_mode": {
    "name": "ipython",
    "version": 3
   },
   "file_extension": ".py",
   "mimetype": "text/x-python",
   "name": "python",
   "nbconvert_exporter": "python",
   "pygments_lexer": "ipython3",
   "version": "3.8.3"
  },
  "orig_nbformat": 4
 },
 "nbformat": 4,
 "nbformat_minor": 2
}
